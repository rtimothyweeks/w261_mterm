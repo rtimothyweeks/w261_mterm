{
 "cells": [
  {
   "cell_type": "code",
   "execution_count": 2,
   "metadata": {
    "collapsed": true
   },
   "outputs": [],
   "source": [
    "import sys\n",
    "import pandas as pd\n",
    "import inspect"
   ]
  },
  {
   "cell_type": "code",
   "execution_count": 17,
   "metadata": {
    "collapsed": false
   },
   "outputs": [],
   "source": [
    "functions = [pd.read_excel, pd.DataFrame().to_csv]\n",
    "defaults = []\n",
    "for function in functions:\n",
    "    a = inspect.getargspec(function)\n",
    "    default_dict = dict(zip(a.args[-len(a.defaults):],a.defaults))\n",
    "    defaults.append(default_dict)"
   ]
  },
  {
   "cell_type": "code",
   "execution_count": 23,
   "metadata": {
    "collapsed": false
   },
   "outputs": [],
   "source": [
    "defaults[0].update({'io':'Benchmark.xlsx'})"
   ]
  },
  {
   "cell_type": "code",
   "execution_count": 24,
   "metadata": {
    "collapsed": false
   },
   "outputs": [
    {
     "data": {
      "text/plain": [
       "{'convert_float': True,\n",
       " 'converters': None,\n",
       " 'date_parser': None,\n",
       " 'engine': None,\n",
       " 'false_values': None,\n",
       " 'has_index_names': None,\n",
       " 'header': 0,\n",
       " 'index_col': None,\n",
       " 'io': 'Benchmark.xlsx',\n",
       " 'na_values': None,\n",
       " 'names': None,\n",
       " 'parse_cols': None,\n",
       " 'parse_dates': False,\n",
       " 'sheetname': 0,\n",
       " 'skip_footer': 0,\n",
       " 'skiprows': None,\n",
       " 'squeeze': False,\n",
       " 'thousands': None,\n",
       " 'true_values': None}"
      ]
     },
     "execution_count": 24,
     "metadata": {},
     "output_type": "execute_result"
    }
   ],
   "source": [
    "defaults[0]"
   ]
  },
  {
   "cell_type": "code",
   "execution_count": 31,
   "metadata": {
    "collapsed": false
   },
   "outputs": [
    {
     "data": {
      "text/plain": [
       "<function str.upper>"
      ]
     },
     "execution_count": 31,
     "metadata": {},
     "output_type": "execute_result"
    }
   ],
   "source": [
    "x = 'read_io'\n",
    "x[5:].upper"
   ]
  },
  {
   "cell_type": "code",
   "execution_count": 33,
   "metadata": {
    "collapsed": false
   },
   "outputs": [
    {
     "name": "stdout",
     "output_type": "stream",
     "text": [
      "READ_IO='Benchmark.xlsx'\n"
     ]
    }
   ],
   "source": [
    "functions = [pd.read_excel, pd.DataFrame().to_csv]\n",
    "defaults = []\n",
    "for function in functions:\n",
    "    a = inspect.getargspec(function)\n",
    "    default_dict = dict(zip(a.args[-len(a.defaults):],a.defaults))\n",
    "    defaults.append(default_dict)\n",
    "    \n",
    "ls = [\"READ_IO='Benchmark.xlsx'\"]\n",
    "for a in ls:\n",
    "    print(a)\n",
    "    index = None\n",
    "    if a[:4].upper() == 'READ':\n",
    "        index = 0\n",
    "    elif a[:4].upper() == 'WRIT':\n",
    "        index = 1\n",
    "    clean_a = a[5:].split('=')\n",
    "    defaults[index].update({clean_a[0]:clean_a[1]})"
   ]
  },
  {
   "cell_type": "code",
   "execution_count": 7,
   "metadata": {
    "collapsed": false
   },
   "outputs": [
    {
     "data": {
      "text/plain": [
       "<zip at 0x87e5908>"
      ]
     },
     "execution_count": 7,
     "metadata": {},
     "output_type": "execute_result"
    }
   ],
   "source": [
    "a = inspect.getargspec(pd.read_excel)\n",
    "zip(a.args[-len(a.defaults):],a.defaults)"
   ]
  },
  {
   "cell_type": "code",
   "execution_count": 13,
   "metadata": {
    "collapsed": false
   },
   "outputs": [
    {
     "data": {
      "text/plain": [
       "{'convert_float': True,\n",
       " 'converters': None,\n",
       " 'date_parser': None,\n",
       " 'engine': None,\n",
       " 'false_values': None,\n",
       " 'has_index_names': None,\n",
       " 'header': 0,\n",
       " 'index_col': None,\n",
       " 'na_values': None,\n",
       " 'names': None,\n",
       " 'parse_cols': None,\n",
       " 'parse_dates': False,\n",
       " 'sheetname': 0,\n",
       " 'skip_footer': 0,\n",
       " 'skiprows': None,\n",
       " 'squeeze': False,\n",
       " 'thousands': None,\n",
       " 'true_values': None}"
      ]
     },
     "execution_count": 13,
     "metadata": {},
     "output_type": "execute_result"
    }
   ],
   "source": [
    "d"
   ]
  },
  {
   "cell_type": "code",
   "execution_count": 5,
   "metadata": {
    "collapsed": false
   },
   "outputs": [
    {
     "name": "stdout",
     "output_type": "stream",
     "text": [
      "io\n",
      "sheetname\n",
      "header\n",
      "skiprows\n",
      "skip_footer\n",
      "index_col\n",
      "names\n",
      "parse_cols\n",
      "parse_dates\n",
      "date_parser\n",
      "na_values\n",
      "thousands\n",
      "convert_float\n",
      "has_index_names\n",
      "converters\n",
      "true_values\n",
      "false_values\n",
      "engine\n",
      "squeeze\n"
     ]
    }
   ],
   "source": [
    "for x in inspect.getargspec(pd.read_excel)[0]:\n",
    "    print(x)"
   ]
  },
  {
   "cell_type": "code",
   "execution_count": null,
   "metadata": {
    "collapsed": true
   },
   "outputs": [],
   "source": []
  },
  {
   "cell_type": "code",
   "execution_count": 25,
   "metadata": {
    "collapsed": false
   },
   "outputs": [
    {
     "data": {
      "text/html": [
       "<div>\n",
       "<table border=\"1\" class=\"dataframe\">\n",
       "  <thead>\n",
       "    <tr style=\"text-align: right;\">\n",
       "      <th></th>\n",
       "      <th>University</th>\n",
       "      <th>Program</th>\n",
       "      <th>Cost/Credit Hour</th>\n",
       "      <th>Source</th>\n",
       "    </tr>\n",
       "  </thead>\n",
       "  <tbody>\n",
       "    <tr>\n",
       "      <th>0</th>\n",
       "      <td>U.C. Berkeley</td>\n",
       "      <td>Master of Data Science</td>\n",
       "      <td>2222</td>\n",
       "      <td>http://datascience.berkeley.edu/admissions/tui...</td>\n",
       "    </tr>\n",
       "    <tr>\n",
       "      <th>1</th>\n",
       "      <td>SMU</td>\n",
       "      <td>Master of Data Science</td>\n",
       "      <td>1704</td>\n",
       "      <td>http://datascience.smu.edu/admissions/tuition-...</td>\n",
       "    </tr>\n",
       "    <tr>\n",
       "      <th>2</th>\n",
       "      <td>WashU</td>\n",
       "      <td>Master of C.S.</td>\n",
       "      <td>1675</td>\n",
       "      <td>http://studentaccounting.wustl.edu/_assets/pdf...</td>\n",
       "    </tr>\n",
       "    <tr>\n",
       "      <th>3</th>\n",
       "      <td>WashU</td>\n",
       "      <td>MBA</td>\n",
       "      <td>1560</td>\n",
       "      <td>http://www.olin.wustl.edu/EN-US/academic-progr...</td>\n",
       "    </tr>\n",
       "    <tr>\n",
       "      <th>4</th>\n",
       "      <td>MS&amp;T</td>\n",
       "      <td>Big Data Certification</td>\n",
       "      <td>1194</td>\n",
       "      <td>http://dce.mst.edu/admissions/feeschedule/inde...</td>\n",
       "    </tr>\n",
       "  </tbody>\n",
       "</table>\n",
       "</div>"
      ],
      "text/plain": [
       "      University                 Program  Cost/Credit Hour  \\\n",
       "0  U.C. Berkeley  Master of Data Science              2222   \n",
       "1            SMU  Master of Data Science              1704   \n",
       "2          WashU          Master of C.S.              1675   \n",
       "3          WashU                     MBA              1560   \n",
       "4           MS&T  Big Data Certification              1194   \n",
       "\n",
       "                                              Source  \n",
       "0  http://datascience.berkeley.edu/admissions/tui...  \n",
       "1  http://datascience.smu.edu/admissions/tuition-...  \n",
       "2  http://studentaccounting.wustl.edu/_assets/pdf...  \n",
       "3  http://www.olin.wustl.edu/EN-US/academic-progr...  \n",
       "4  http://dce.mst.edu/admissions/feeschedule/inde...  "
      ]
     },
     "execution_count": 25,
     "metadata": {},
     "output_type": "execute_result"
    }
   ],
   "source": [
    "filename = 'Benchmark.xlsx'\n",
    "\n",
    "input_df = pd.read_excel(**defaults[0])\n",
    "input_df.head()"
   ]
  },
  {
   "cell_type": "code",
   "execution_count": 40,
   "metadata": {
    "collapsed": false
   },
   "outputs": [],
   "source": [
    "input_df.to_csv('tim.csv')"
   ]
  },
  {
   "cell_type": "code",
   "execution_count": 42,
   "metadata": {
    "collapsed": false
   },
   "outputs": [
    {
     "data": {
      "text/plain": [
       "False"
      ]
     },
     "execution_count": 42,
     "metadata": {},
     "output_type": "execute_result"
    }
   ],
   "source": [
    "isinstance('0',(int))"
   ]
  },
  {
   "cell_type": "code",
   "execution_count": 44,
   "metadata": {
    "collapsed": false
   },
   "outputs": [
    {
     "name": "stdout",
     "output_type": "stream",
     "text": [
      "yes\n"
     ]
    }
   ],
   "source": [
    "if isinstance(int('0'),(int)):\n",
    "    print('yes')"
   ]
  },
  {
   "cell_type": "code",
   "execution_count": null,
   "metadata": {
    "collapsed": true
   },
   "outputs": [],
   "source": []
  }
 ],
 "metadata": {
  "anaconda-cloud": {},
  "kernelspec": {
   "display_name": "Python [conda root]",
   "language": "python",
   "name": "conda-root-py"
  },
  "language_info": {
   "codemirror_mode": {
    "name": "ipython",
    "version": 3
   },
   "file_extension": ".py",
   "mimetype": "text/x-python",
   "name": "python",
   "nbconvert_exporter": "python",
   "pygments_lexer": "ipython3",
   "version": "3.4.5"
  }
 },
 "nbformat": 4,
 "nbformat_minor": 1
}
